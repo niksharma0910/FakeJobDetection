{
 "cells": [
  {
   "cell_type": "code",
   "execution_count": 1,
   "id": "45ab06e2",
   "metadata": {},
   "outputs": [],
   "source": [
    "import pandas as pd\n",
    "from sklearn.feature_extraction.text import TfidfVectorizer\n",
    "from sklearn.linear_model import LogisticRegression\n",
    "from sklearn.svm import SVC\n",
    "from sklearn.model_selection import train_test_split\n",
    "from sklearn.metrics import accuracy_score\n",
    "\n",
    "import pickle"
   ]
  },
  {
   "cell_type": "code",
   "execution_count": 2,
   "id": "01045a77",
   "metadata": {},
   "outputs": [
    {
     "name": "stdout",
     "output_type": "stream",
     "text": [
      "D:\\miniproject\n"
     ]
    }
   ],
   "source": [
    "cd D:\\miniproject"
   ]
  },
  {
   "cell_type": "code",
   "execution_count": 3,
   "id": "197bac18",
   "metadata": {},
   "outputs": [],
   "source": [
    "# Load the dataset\n",
    "df = pd.read_csv('fake_job_postings.csv')"
   ]
  },
  {
   "cell_type": "code",
   "execution_count": 6,
   "id": "e6fdfc9d",
   "metadata": {},
   "outputs": [],
   "source": [
    "# Data cleaning\n",
    "df['description'] = df['description'].fillna('') # Replace NaN values with empty strings\n",
    "df['description'] = df['description'].str.replace('<.*?>', ' ', regex=True)  # Remove HTML tags\n",
    "df['description'] = df['description'].str.lower()  # Convert to lowercase"
   ]
  },
  {
   "cell_type": "code",
   "execution_count": 7,
   "id": "16362d8b",
   "metadata": {},
   "outputs": [],
   "source": [
    "# Feature extraction\n",
    "vectorizer = TfidfVectorizer()\n",
    "X = vectorizer.fit_transform(df['description'])\n",
    "y = df['fraudulent']"
   ]
  },
  {
   "cell_type": "code",
   "execution_count": 8,
   "id": "ed29edb4",
   "metadata": {},
   "outputs": [],
   "source": [
    "# Split the data into training and testing sets\n",
    "X_train, X_test, y_train, y_test = train_test_split(X, y, test_size=0.2, random_state=42)"
   ]
  },
  {
   "cell_type": "code",
   "execution_count": 9,
   "id": "16aaf747",
   "metadata": {},
   "outputs": [
    {
     "name": "stdout",
     "output_type": "stream",
     "text": [
      "Logistic Regression Accuracy: 0.9653243847874721\n"
     ]
    }
   ],
   "source": [
    "# Logistic Regression\n",
    "lr_model = LogisticRegression()\n",
    "lr_model.fit(X_train, y_train)\n",
    "lr_accuracy = accuracy_score(y_test, lr_model.predict(X_test))\n",
    "print(\"Logistic Regression Accuracy:\", lr_accuracy)"
   ]
  },
  {
   "cell_type": "code",
   "execution_count": 12,
   "id": "7eba15e9",
   "metadata": {},
   "outputs": [
    {
     "name": "stdout",
     "output_type": "stream",
     "text": [
      "SVM Accuracy: 0.9759507829977628\n"
     ]
    }
   ],
   "source": [
    "# SVM\n",
    "svm_model = SVC()\n",
    "svm_model.fit(X_train, y_train)\n",
    "svm_accuracy = accuracy_score(y_test, svm_model.predict(X_test))\n",
    "print(\"SVM Accuracy:\", svm_accuracy)"
   ]
  },
  {
   "cell_type": "code",
   "execution_count": 20,
   "id": "190fa6d2",
   "metadata": {},
   "outputs": [],
   "source": [
    "user_description = \"\"\"Responsible for assisting in the direction and administration of the planning, preparation, production and control of all culinary operations in the hotels continuing effort to deliver outstanding guest service and financial profitability.As Executive Sous Chef, you would be responsible for assisting in the direction and administration of the planning, preparation, production and control of all culinary operations in the hotel's continuing effort to deliver outstanding guest service and financial profitability. Specifically, you would be responsible for performing the following tasks to the highest standards:Assist the Executive Chef in the direction and oversight of all culinary operations, to include, but not limited to, preparation and production of all hotel meals, food quality and presentation, compliance with all safety and sanitation standards and regulation, team member productivity and performance, implementation of policies and procedures, cost controls and overall profitabilityAssist the Executive Chef by interacting with guests and clients to monitor and assess satisfaction trends, evaluate and address issues and make improvements accordinglyAssist the Executive Chef in creating and implementing menu selections for special banquet themes and events based on current food trends and regional tastes in partnership with the Executive Chef and Director of Food and Beverage, as neededEnsure compliance with federal, state, local and company health, safety, sanitation and alcohol awareness standardsMonitor and develop team member performance to include, but not limited to, providing supervision, conducting counseling and assisting with evaluations, training, scheduling and assigning work and delivering recognition and reward\"\"\"\n"
   ]
  },
  {
   "cell_type": "code",
   "execution_count": 23,
   "id": "6a8ad3c5",
   "metadata": {},
   "outputs": [
    {
     "name": "stdout",
     "output_type": "stream",
     "text": [
      "Logistic Regression Prediction: 0\n",
      "SVM Prediction: 0\n"
     ]
    }
   ],
   "source": [
    "user_description_vec = vectorizer.transform([user_description])\n",
    "print(\"Logistic Regression Prediction:\", lr_model.predict(user_description_vec)[0])\n",
    "print(\"SVM Prediction:\", svm_model.predict(user_description_vec)[0])"
   ]
  },
  {
   "cell_type": "code",
   "execution_count": 24,
   "id": "6b7f1110",
   "metadata": {},
   "outputs": [
    {
     "name": "stdout",
     "output_type": "stream",
     "text": [
      "Models and vectorizer saved successfully!\n"
     ]
    }
   ],
   "source": [
    "# Save the logistic regression model\n",
    "lr_model_path = 'lr_model.pkl'\n",
    "with open(lr_model_path, 'wb') as f:\n",
    "    pickle.dump(lr_model, f)\n",
    "\n",
    "# Save the SVM model    \n",
    "svm_model_path = 'svm_model.pkl'\n",
    "with open(svm_model_path, 'wb') as f:\n",
    "    pickle.dump(svm_model, f)\n",
    "\n",
    "# Save the TF-IDF vectorizer\n",
    "vectorizer_path = 'vectorizer.pkl'\n",
    "with open(vectorizer_path, 'wb') as f:\n",
    "    pickle.dump(vectorizer, f)\n",
    "\n",
    "print(\"Models and vectorizer saved successfully!\")"
   ]
  },
  {
   "cell_type": "code",
   "execution_count": null,
   "id": "d57a6ba0",
   "metadata": {},
   "outputs": [],
   "source": []
  }
 ],
 "metadata": {
  "kernelspec": {
   "display_name": "Python 3 (ipykernel)",
   "language": "python",
   "name": "python3"
  },
  "language_info": {
   "codemirror_mode": {
    "name": "ipython",
    "version": 3
   },
   "file_extension": ".py",
   "mimetype": "text/x-python",
   "name": "python",
   "nbconvert_exporter": "python",
   "pygments_lexer": "ipython3",
   "version": "3.7.16"
  }
 },
 "nbformat": 4,
 "nbformat_minor": 5
}
